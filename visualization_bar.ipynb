{
 "cells": [
  {
   "cell_type": "code",
   "execution_count": 39,
   "id": "c47ef4d7",
   "metadata": {},
   "outputs": [],
   "source": [
    "import pandas as pd\n",
    "import seaborn as sns"
   ]
  },
  {
   "cell_type": "code",
   "execution_count": 40,
   "id": "18ef1c42",
   "metadata": {},
   "outputs": [],
   "source": [
    "df = pd.read_csv(\"ACTIVIDADES_DE_LA_BIBLIOTECA_clean.csv\")"
   ]
  },
  {
   "cell_type": "code",
   "execution_count": 41,
   "id": "809e43d0",
   "metadata": {},
   "outputs": [
    {
     "name": "stdout",
     "output_type": "stream",
     "text": [
      "<class 'pandas.core.frame.DataFrame'>\n",
      "RangeIndex: 15309 entries, 0 to 15308\n",
      "Data columns (total 6 columns):\n",
      " #   Column             Non-Null Count  Dtype \n",
      "---  ------             --------------  ----- \n",
      " 0   Actividad          15309 non-null  object\n",
      " 1   Línea_Servicio     15309 non-null  object\n",
      " 2   ESPACIO_ACTIVIDAD  15309 non-null  object\n",
      " 3   Asistencias        15309 non-null  int64 \n",
      " 4   Rangos_Edad        15309 non-null  object\n",
      " 5   LUGAR              15309 non-null  object\n",
      "dtypes: int64(1), object(5)\n",
      "memory usage: 717.7+ KB\n"
     ]
    }
   ],
   "source": [
    "df.info()"
   ]
  },
  {
   "cell_type": "code",
   "execution_count": null,
   "id": "a5ed97b9",
   "metadata": {},
   "outputs": [
    {
     "data": {
      "text/html": [
       "<div>\n",
       "<style scoped>\n",
       "    .dataframe tbody tr th:only-of-type {\n",
       "        vertical-align: middle;\n",
       "    }\n",
       "\n",
       "    .dataframe tbody tr th {\n",
       "        vertical-align: top;\n",
       "    }\n",
       "\n",
       "    .dataframe thead th {\n",
       "        text-align: right;\n",
       "    }\n",
       "</style>\n",
       "<table border=\"1\" class=\"dataframe\">\n",
       "  <thead>\n",
       "    <tr style=\"text-align: right;\">\n",
       "      <th></th>\n",
       "      <th>ESPACIO_ACTIVIDAD</th>\n",
       "      <th>Asistencias</th>\n",
       "    </tr>\n",
       "  </thead>\n",
       "  <tbody>\n",
       "    <tr>\n",
       "      <th>0</th>\n",
       "      <td>AREA DE CIRCULACION Y PRESTAMO</td>\n",
       "      <td>152</td>\n",
       "    </tr>\n",
       "    <tr>\n",
       "      <th>1</th>\n",
       "      <td>AREA DE CIRCULACION Y PRESTAMOS</td>\n",
       "      <td>9221</td>\n",
       "    </tr>\n",
       "    <tr>\n",
       "      <th>2</th>\n",
       "      <td>BIBLIOTECA AL PARQUE</td>\n",
       "      <td>28</td>\n",
       "    </tr>\n",
       "    <tr>\n",
       "      <th>3</th>\n",
       "      <td>EXTENSION BIBLIOTECARIA \\n(BIBLIOTECA INTINERA...</td>\n",
       "      <td>263</td>\n",
       "    </tr>\n",
       "    <tr>\n",
       "      <th>4</th>\n",
       "      <td>EXTENSION BIBLIOTECARIA ( BIBLIOTECA ITINERANTE)</td>\n",
       "      <td>1164</td>\n",
       "    </tr>\n",
       "    <tr>\n",
       "      <th>5</th>\n",
       "      <td>EXTENSION BIBLIOTECARIA (BIBLIOTECA ITINERANTE)</td>\n",
       "      <td>8191</td>\n",
       "    </tr>\n",
       "    <tr>\n",
       "      <th>6</th>\n",
       "      <td>EXTENSIÓN BIBLIOTECARIA \\n(BIBLIOTECA INTINERA...</td>\n",
       "      <td>449</td>\n",
       "    </tr>\n",
       "    <tr>\n",
       "      <th>7</th>\n",
       "      <td>EXTENSIÓN BIBLIOTECARIA (BIBLIOTECA ITINERANTE)</td>\n",
       "      <td>1378</td>\n",
       "    </tr>\n",
       "    <tr>\n",
       "      <th>8</th>\n",
       "      <td>SALA AUDIOVISUAL</td>\n",
       "      <td>3733</td>\n",
       "    </tr>\n",
       "    <tr>\n",
       "      <th>9</th>\n",
       "      <td>SALA DE ARTE, LECTURA Y PATRIMONIO</td>\n",
       "      <td>2978</td>\n",
       "    </tr>\n",
       "    <tr>\n",
       "      <th>10</th>\n",
       "      <td>SALA DE AUDIOVISUALES</td>\n",
       "      <td>25</td>\n",
       "    </tr>\n",
       "    <tr>\n",
       "      <th>11</th>\n",
       "      <td>SALA DE SISTEMAS</td>\n",
       "      <td>2403</td>\n",
       "    </tr>\n",
       "    <tr>\n",
       "      <th>12</th>\n",
       "      <td>SALA GENERAL</td>\n",
       "      <td>14108</td>\n",
       "    </tr>\n",
       "    <tr>\n",
       "      <th>13</th>\n",
       "      <td>SALA GENERAL, SISTEMAS, INFANTIL, AUDIOVISUALES</td>\n",
       "      <td>207</td>\n",
       "    </tr>\n",
       "    <tr>\n",
       "      <th>14</th>\n",
       "      <td>SALA INFANTIL</td>\n",
       "      <td>7379</td>\n",
       "    </tr>\n",
       "    <tr>\n",
       "      <th>15</th>\n",
       "      <td>SALA JUVENIL</td>\n",
       "      <td>455</td>\n",
       "    </tr>\n",
       "    <tr>\n",
       "      <th>16</th>\n",
       "      <td>ÁREA DE CIRCULACIÓN Y PRÉSTAMO</td>\n",
       "      <td>240</td>\n",
       "    </tr>\n",
       "    <tr>\n",
       "      <th>17</th>\n",
       "      <td>ÁREA DE CIRCULACIÓN Y PRÉSTAMOS</td>\n",
       "      <td>8</td>\n",
       "    </tr>\n",
       "  </tbody>\n",
       "</table>\n",
       "</div>"
      ],
      "text/plain": [
       "                                    ESPACIO_ACTIVIDAD  Asistencias\n",
       "0                      AREA DE CIRCULACION Y PRESTAMO          152\n",
       "1                     AREA DE CIRCULACION Y PRESTAMOS         9221\n",
       "2                                BIBLIOTECA AL PARQUE           28\n",
       "3   EXTENSION BIBLIOTECARIA \\n(BIBLIOTECA INTINERA...          263\n",
       "4    EXTENSION BIBLIOTECARIA ( BIBLIOTECA ITINERANTE)         1164\n",
       "5     EXTENSION BIBLIOTECARIA (BIBLIOTECA ITINERANTE)         8191\n",
       "6   EXTENSIÓN BIBLIOTECARIA \\n(BIBLIOTECA INTINERA...          449\n",
       "7     EXTENSIÓN BIBLIOTECARIA (BIBLIOTECA ITINERANTE)         1378\n",
       "8                                    SALA AUDIOVISUAL         3733\n",
       "9                  SALA DE ARTE, LECTURA Y PATRIMONIO         2978\n",
       "10                              SALA DE AUDIOVISUALES           25\n",
       "11                                   SALA DE SISTEMAS         2403\n",
       "12                                       SALA GENERAL        14108\n",
       "13    SALA GENERAL, SISTEMAS, INFANTIL, AUDIOVISUALES          207\n",
       "14                                      SALA INFANTIL         7379\n",
       "15                                       SALA JUVENIL          455\n",
       "16                     ÁREA DE CIRCULACIÓN Y PRÉSTAMO          240\n",
       "17                    ÁREA DE CIRCULACIÓN Y PRÉSTAMOS            8"
      ]
     },
     "execution_count": 44,
     "metadata": {},
     "output_type": "execute_result"
    }
   ],
   "source": [
    "# Identificar la cantidad de asistencias que presenta cada actividad\n",
    "\n",
    "df.groupby('ESPACIO_ACTIVIDAD')['Asistencias'].sum().reset_index()"
   ]
  },
  {
   "cell_type": "code",
   "execution_count": 47,
   "id": "52614c4c",
   "metadata": {},
   "outputs": [
    {
     "data": {
      "text/plain": [
       "<Axes: xlabel='ESPACIO_ACTIVIDAD', ylabel='Asistencias'>"
      ]
     },
     "execution_count": 47,
     "metadata": {},
     "output_type": "execute_result"
    },
    {
     "data": {
      "image/png": "[encoded data removed]",
      "text/plain": [
       "<Figure size 640x480 with 1 Axes>"
      ]
     },
     "metadata": {},
     "output_type": "display_data"
    }
   ],
   "source": [
    "sns.barplot(data=df, x=\"ESPACIO_ACTIVIDAD\", y=\"Asistencias\", estimator=sum)"
   ]
  }
 ],
 "metadata": {
  "kernelspec": {
   "display_name": "Python 3",
   "language": "python",
   "name": "python3"
  },
  "language_info": {
   "codemirror_mode": {
    "name": "ipython",
    "version": 3
   },
   "file_extension": ".py",
   "mimetype": "text/x-python",
   "name": "python",
   "nbconvert_exporter": "python",
   "pygments_lexer": "ipython3",
   "version": "3.13.2"
  }
 },
 "nbformat": 4,
 "nbformat_minor": 5
}
