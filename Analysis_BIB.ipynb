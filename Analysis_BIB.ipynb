{
 "cells": [
  {
   "cell_type": "code",
   "execution_count": 1,
   "id": "f22aa444",
   "metadata": {},
   "outputs": [],
   "source": [
    "# Pandas es una biblioteca de Python utilizada para trabajar con conjuntos de datos.\n",
    "# Tiene funciones de análisis, limpieza, exploración y manipulación de datos.\n",
    "import pandas as pd"
   ]
  },
  {
   "cell_type": "code",
   "execution_count": 2,
   "id": "1bb445f6",
   "metadata": {},
   "outputs": [],
   "source": [
    "# Cargar un archivo CSV en un DataFrame de Pandas\n",
    "df = pd.read_csv(\"ACTIVIDADES_DE_LA_BIBLIOTECA.csv\")"
   ]
  },
  {
   "cell_type": "code",
   "execution_count": 3,
   "id": "05210fb9",
   "metadata": {},
   "outputs": [
    {
     "data": {
      "text/plain": [
       "(15309, 9)"
      ]
     },
     "execution_count": 3,
     "metadata": {},
     "output_type": "execute_result"
    }
   ],
   "source": [
    "# Devuelve el valor de N° de Filas y N° de Columnas\n",
    "df.shape"
   ]
  },
  {
   "cell_type": "code",
   "execution_count": 4,
   "id": "490d5398",
   "metadata": {},
   "outputs": [
    {
     "data": {
      "text/plain": [
       "<bound method DataFrame.info of         Fecha                                          Actividad  \\\n",
       "0      2024.0  CONSULTA EN SALA (LIBROS, PERIODICOS Y REVISTA...   \n",
       "1      2024.0  CONSULTA EN SALA (LIBROS, PERIODICOS Y REVISTA...   \n",
       "2      2024.0  CONSULTA EN SALA (LIBROS, PERIODICOS Y REVISTA...   \n",
       "3      2024.0  CONSULTA EN SALA (LIBROS, PERIODICOS Y REVISTA...   \n",
       "4      2024.0  CONSULTA EN SALA (LIBROS, PERIODICOS Y REVISTA...   \n",
       "...       ...                                                ...   \n",
       "15304  2024.0                      CONSULTA EN SALA (RECURRENTE)   \n",
       "15305  2024.0                            ISLA LIBRO (RECURRENTE)   \n",
       "15306  2024.0                            MEMORIAS VITALES (REAL)   \n",
       "15307  2024.0  CONSULTA EN SALA (LIBROS, PERIODICOS Y REVISTA...   \n",
       "15308  2024.0  CONSULTA EN SALA (LIBROS, PERIODICOS Y REVISTA...   \n",
       "\n",
       "                                    Línea de Servicio  \\\n",
       "0                                    CONSULTA EN SALA   \n",
       "1                                    CONSULTA EN SALA   \n",
       "2                                    CONSULTA EN SALA   \n",
       "3                                    CONSULTA EN SALA   \n",
       "4                                    CONSULTA EN SALA   \n",
       "...                                               ...   \n",
       "15304                                CONSULTA EN SALA   \n",
       "15305  ACTIVIDADES Y FORMACION EN LECTURA Y ESCRITURA   \n",
       "15306  ACTIVIDADES Y FORMACION EN LECTURA Y ESCRITURA   \n",
       "15307                                CONSULTA EN SALA   \n",
       "15308                                CONSULTA EN SALA   \n",
       "\n",
       "              Espacio donde se desarrolla la actividad  Asistencias  \\\n",
       "0                                         SALA GENERAL            1   \n",
       "1                                         SALA GENERAL            1   \n",
       "2                                         SALA GENERAL            1   \n",
       "3                                         SALA GENERAL            1   \n",
       "4                                         SALA GENERAL            1   \n",
       "...                                                ...          ...   \n",
       "15304                                    SALA INFANTIL            4   \n",
       "15305                                    SALA INFANTIL            5   \n",
       "15306  EXTENSION BIBLIOTECARIA (BIBLIOTECA ITINERANTE)           26   \n",
       "15307                                     SALA GENERAL            2   \n",
       "15308                                     SALA GENERAL            3   \n",
       "\n",
       "                              Rangos de Edad  Femenino  Masculino       LUGAR  \n",
       "0                     ADULTOS (29 A 59 AÑOS)       1.0        0.0      CENTRO  \n",
       "1                     ADULTOS (29 A 59 AÑOS)       0.0        1.0      CENTRO  \n",
       "2                     ADULTOS (29 A 59 AÑOS)       0.0        1.0      CENTRO  \n",
       "3                     ADULTOS (29 A 59 AÑOS)       1.0        0.0      CENTRO  \n",
       "4                     ADULTOS (29 A 59 AÑOS)       0.0        1.0      CENTRO  \n",
       "...                                      ...       ...        ...         ...  \n",
       "15304            NIÑOS Y NIÑAS (6 A 12 AÑOS)       1.0        3.0  YERBABUENA  \n",
       "15305            NIÑOS Y NIÑAS (6 A 12 AÑOS)       2.0        3.0  YERBABUENA  \n",
       "15306  ADULTOS MAYORES (60 AÑOS EN ADELANTE)      16.0       10.0  YERBABUENA  \n",
       "15307                 ADULTOS (29 A 59 AÑOS)       1.0        1.0  YERBABUENA  \n",
       "15308            ADOLESCENTES (13 A 17 AÑOS)       2.0        1.0  YERBABUENA  \n",
       "\n",
       "[15309 rows x 9 columns]>"
      ]
     },
     "execution_count": 4,
     "metadata": {},
     "output_type": "execute_result"
    }
   ],
   "source": [
    "# El DataFrames permite visualizar información detallada del data set\n",
    "df.info"
   ]
  },
  {
   "cell_type": "code",
   "execution_count": 5,
   "id": "a0a5f57c",
   "metadata": {},
   "outputs": [
    {
     "data": {
      "text/html": [
       "<div>\n",
       "<style scoped>\n",
       "    .dataframe tbody tr th:only-of-type {\n",
       "        vertical-align: middle;\n",
       "    }\n",
       "\n",
       "    .dataframe tbody tr th {\n",
       "        vertical-align: top;\n",
       "    }\n",
       "\n",
       "    .dataframe thead th {\n",
       "        text-align: right;\n",
       "    }\n",
       "</style>\n",
       "<table border=\"1\" class=\"dataframe\">\n",
       "  <thead>\n",
       "    <tr style=\"text-align: right;\">\n",
       "      <th></th>\n",
       "      <th>Fecha</th>\n",
       "      <th>Actividad</th>\n",
       "      <th>Línea de Servicio</th>\n",
       "      <th>Espacio donde se desarrolla la actividad</th>\n",
       "      <th>Asistencias</th>\n",
       "      <th>Rangos de Edad</th>\n",
       "      <th>Femenino</th>\n",
       "      <th>Masculino</th>\n",
       "      <th>LUGAR</th>\n",
       "    </tr>\n",
       "  </thead>\n",
       "  <tbody>\n",
       "    <tr>\n",
       "      <th>0</th>\n",
       "      <td>2024.0</td>\n",
       "      <td>CONSULTA EN SALA (LIBROS, PERIODICOS Y REVISTA...</td>\n",
       "      <td>CONSULTA EN SALA</td>\n",
       "      <td>SALA GENERAL</td>\n",
       "      <td>1</td>\n",
       "      <td>ADULTOS (29 A 59 AÑOS)</td>\n",
       "      <td>1.0</td>\n",
       "      <td>0.0</td>\n",
       "      <td>CENTRO</td>\n",
       "    </tr>\n",
       "    <tr>\n",
       "      <th>1</th>\n",
       "      <td>2024.0</td>\n",
       "      <td>CONSULTA EN SALA (LIBROS, PERIODICOS Y REVISTA...</td>\n",
       "      <td>CONSULTA EN SALA</td>\n",
       "      <td>SALA GENERAL</td>\n",
       "      <td>1</td>\n",
       "      <td>ADULTOS (29 A 59 AÑOS)</td>\n",
       "      <td>0.0</td>\n",
       "      <td>1.0</td>\n",
       "      <td>CENTRO</td>\n",
       "    </tr>\n",
       "    <tr>\n",
       "      <th>2</th>\n",
       "      <td>2024.0</td>\n",
       "      <td>CONSULTA EN SALA (LIBROS, PERIODICOS Y REVISTA...</td>\n",
       "      <td>CONSULTA EN SALA</td>\n",
       "      <td>SALA GENERAL</td>\n",
       "      <td>1</td>\n",
       "      <td>ADULTOS (29 A 59 AÑOS)</td>\n",
       "      <td>0.0</td>\n",
       "      <td>1.0</td>\n",
       "      <td>CENTRO</td>\n",
       "    </tr>\n",
       "    <tr>\n",
       "      <th>3</th>\n",
       "      <td>2024.0</td>\n",
       "      <td>CONSULTA EN SALA (LIBROS, PERIODICOS Y REVISTA...</td>\n",
       "      <td>CONSULTA EN SALA</td>\n",
       "      <td>SALA GENERAL</td>\n",
       "      <td>1</td>\n",
       "      <td>ADULTOS (29 A 59 AÑOS)</td>\n",
       "      <td>1.0</td>\n",
       "      <td>0.0</td>\n",
       "      <td>CENTRO</td>\n",
       "    </tr>\n",
       "    <tr>\n",
       "      <th>4</th>\n",
       "      <td>2024.0</td>\n",
       "      <td>CONSULTA EN SALA (LIBROS, PERIODICOS Y REVISTA...</td>\n",
       "      <td>CONSULTA EN SALA</td>\n",
       "      <td>SALA GENERAL</td>\n",
       "      <td>1</td>\n",
       "      <td>ADULTOS (29 A 59 AÑOS)</td>\n",
       "      <td>0.0</td>\n",
       "      <td>1.0</td>\n",
       "      <td>CENTRO</td>\n",
       "    </tr>\n",
       "    <tr>\n",
       "      <th>...</th>\n",
       "      <td>...</td>\n",
       "      <td>...</td>\n",
       "      <td>...</td>\n",
       "      <td>...</td>\n",
       "      <td>...</td>\n",
       "      <td>...</td>\n",
       "      <td>...</td>\n",
       "      <td>...</td>\n",
       "      <td>...</td>\n",
       "    </tr>\n",
       "    <tr>\n",
       "      <th>15304</th>\n",
       "      <td>2024.0</td>\n",
       "      <td>CONSULTA EN SALA (RECURRENTE)</td>\n",
       "      <td>CONSULTA EN SALA</td>\n",
       "      <td>SALA INFANTIL</td>\n",
       "      <td>4</td>\n",
       "      <td>NIÑOS Y NIÑAS (6 A 12 AÑOS)</td>\n",
       "      <td>1.0</td>\n",
       "      <td>3.0</td>\n",
       "      <td>YERBABUENA</td>\n",
       "    </tr>\n",
       "    <tr>\n",
       "      <th>15305</th>\n",
       "      <td>2024.0</td>\n",
       "      <td>ISLA LIBRO (RECURRENTE)</td>\n",
       "      <td>ACTIVIDADES Y FORMACION EN LECTURA Y ESCRITURA</td>\n",
       "      <td>SALA INFANTIL</td>\n",
       "      <td>5</td>\n",
       "      <td>NIÑOS Y NIÑAS (6 A 12 AÑOS)</td>\n",
       "      <td>2.0</td>\n",
       "      <td>3.0</td>\n",
       "      <td>YERBABUENA</td>\n",
       "    </tr>\n",
       "    <tr>\n",
       "      <th>15306</th>\n",
       "      <td>2024.0</td>\n",
       "      <td>MEMORIAS VITALES (REAL)</td>\n",
       "      <td>ACTIVIDADES Y FORMACION EN LECTURA Y ESCRITURA</td>\n",
       "      <td>EXTENSION BIBLIOTECARIA (BIBLIOTECA ITINERANTE)</td>\n",
       "      <td>26</td>\n",
       "      <td>ADULTOS MAYORES (60 AÑOS EN ADELANTE)</td>\n",
       "      <td>16.0</td>\n",
       "      <td>10.0</td>\n",
       "      <td>YERBABUENA</td>\n",
       "    </tr>\n",
       "    <tr>\n",
       "      <th>15307</th>\n",
       "      <td>2024.0</td>\n",
       "      <td>CONSULTA EN SALA (LIBROS, PERIODICOS Y REVISTA...</td>\n",
       "      <td>CONSULTA EN SALA</td>\n",
       "      <td>SALA GENERAL</td>\n",
       "      <td>2</td>\n",
       "      <td>ADULTOS (29 A 59 AÑOS)</td>\n",
       "      <td>1.0</td>\n",
       "      <td>1.0</td>\n",
       "      <td>YERBABUENA</td>\n",
       "    </tr>\n",
       "    <tr>\n",
       "      <th>15308</th>\n",
       "      <td>2024.0</td>\n",
       "      <td>CONSULTA EN SALA (LIBROS, PERIODICOS Y REVISTA...</td>\n",
       "      <td>CONSULTA EN SALA</td>\n",
       "      <td>SALA GENERAL</td>\n",
       "      <td>3</td>\n",
       "      <td>ADOLESCENTES (13 A 17 AÑOS)</td>\n",
       "      <td>2.0</td>\n",
       "      <td>1.0</td>\n",
       "      <td>YERBABUENA</td>\n",
       "    </tr>\n",
       "  </tbody>\n",
       "</table>\n",
       "<p>15309 rows × 9 columns</p>\n",
       "</div>"
      ],
      "text/plain": [
       "        Fecha                                          Actividad  \\\n",
       "0      2024.0  CONSULTA EN SALA (LIBROS, PERIODICOS Y REVISTA...   \n",
       "1      2024.0  CONSULTA EN SALA (LIBROS, PERIODICOS Y REVISTA...   \n",
       "2      2024.0  CONSULTA EN SALA (LIBROS, PERIODICOS Y REVISTA...   \n",
       "3      2024.0  CONSULTA EN SALA (LIBROS, PERIODICOS Y REVISTA...   \n",
       "4      2024.0  CONSULTA EN SALA (LIBROS, PERIODICOS Y REVISTA...   \n",
       "...       ...                                                ...   \n",
       "15304  2024.0                      CONSULTA EN SALA (RECURRENTE)   \n",
       "15305  2024.0                            ISLA LIBRO (RECURRENTE)   \n",
       "15306  2024.0                            MEMORIAS VITALES (REAL)   \n",
       "15307  2024.0  CONSULTA EN SALA (LIBROS, PERIODICOS Y REVISTA...   \n",
       "15308  2024.0  CONSULTA EN SALA (LIBROS, PERIODICOS Y REVISTA...   \n",
       "\n",
       "                                    Línea de Servicio  \\\n",
       "0                                    CONSULTA EN SALA   \n",
       "1                                    CONSULTA EN SALA   \n",
       "2                                    CONSULTA EN SALA   \n",
       "3                                    CONSULTA EN SALA   \n",
       "4                                    CONSULTA EN SALA   \n",
       "...                                               ...   \n",
       "15304                                CONSULTA EN SALA   \n",
       "15305  ACTIVIDADES Y FORMACION EN LECTURA Y ESCRITURA   \n",
       "15306  ACTIVIDADES Y FORMACION EN LECTURA Y ESCRITURA   \n",
       "15307                                CONSULTA EN SALA   \n",
       "15308                                CONSULTA EN SALA   \n",
       "\n",
       "              Espacio donde se desarrolla la actividad  Asistencias  \\\n",
       "0                                         SALA GENERAL            1   \n",
       "1                                         SALA GENERAL            1   \n",
       "2                                         SALA GENERAL            1   \n",
       "3                                         SALA GENERAL            1   \n",
       "4                                         SALA GENERAL            1   \n",
       "...                                                ...          ...   \n",
       "15304                                    SALA INFANTIL            4   \n",
       "15305                                    SALA INFANTIL            5   \n",
       "15306  EXTENSION BIBLIOTECARIA (BIBLIOTECA ITINERANTE)           26   \n",
       "15307                                     SALA GENERAL            2   \n",
       "15308                                     SALA GENERAL            3   \n",
       "\n",
       "                              Rangos de Edad  Femenino  Masculino       LUGAR  \n",
       "0                     ADULTOS (29 A 59 AÑOS)       1.0        0.0      CENTRO  \n",
       "1                     ADULTOS (29 A 59 AÑOS)       0.0        1.0      CENTRO  \n",
       "2                     ADULTOS (29 A 59 AÑOS)       0.0        1.0      CENTRO  \n",
       "3                     ADULTOS (29 A 59 AÑOS)       1.0        0.0      CENTRO  \n",
       "4                     ADULTOS (29 A 59 AÑOS)       0.0        1.0      CENTRO  \n",
       "...                                      ...       ...        ...         ...  \n",
       "15304            NIÑOS Y NIÑAS (6 A 12 AÑOS)       1.0        3.0  YERBABUENA  \n",
       "15305            NIÑOS Y NIÑAS (6 A 12 AÑOS)       2.0        3.0  YERBABUENA  \n",
       "15306  ADULTOS MAYORES (60 AÑOS EN ADELANTE)      16.0       10.0  YERBABUENA  \n",
       "15307                 ADULTOS (29 A 59 AÑOS)       1.0        1.0  YERBABUENA  \n",
       "15308            ADOLESCENTES (13 A 17 AÑOS)       2.0        1.0  YERBABUENA  \n",
       "\n",
       "[15309 rows x 9 columns]"
      ]
     },
     "execution_count": 5,
     "metadata": {},
     "output_type": "execute_result"
    }
   ],
   "source": [
    "df"
   ]
  },
  {
   "cell_type": "code",
   "execution_count": 6,
   "id": "9ff591e1",
   "metadata": {},
   "outputs": [
    {
     "data": {
      "text/plain": [
       "Index(['Fecha', 'Actividad', 'Línea de Servicio',\n",
       "       'Espacio donde se desarrolla la actividad', 'Asistencias',\n",
       "       'Rangos de Edad', 'Femenino', 'Masculino', 'LUGAR'],\n",
       "      dtype='object')"
      ]
     },
     "execution_count": 6,
     "metadata": {},
     "output_type": "execute_result"
    }
   ],
   "source": [
    "# Visualiza los nombres de los encabezados\n",
    "df.columns"
   ]
  },
  {
   "cell_type": "code",
   "execution_count": 7,
   "id": "dbf3073a",
   "metadata": {},
   "outputs": [
    {
     "data": {
      "text/html": [
       "<div>\n",
       "<style scoped>\n",
       "    .dataframe tbody tr th:only-of-type {\n",
       "        vertical-align: middle;\n",
       "    }\n",
       "\n",
       "    .dataframe tbody tr th {\n",
       "        vertical-align: top;\n",
       "    }\n",
       "\n",
       "    .dataframe thead th {\n",
       "        text-align: right;\n",
       "    }\n",
       "</style>\n",
       "<table border=\"1\" class=\"dataframe\">\n",
       "  <thead>\n",
       "    <tr style=\"text-align: right;\">\n",
       "      <th></th>\n",
       "      <th>Fecha</th>\n",
       "      <th>Actividad</th>\n",
       "      <th>Línea de Servicio</th>\n",
       "      <th>Espacio donde se desarrolla la actividad</th>\n",
       "      <th>Asistencias</th>\n",
       "      <th>Rangos de Edad</th>\n",
       "      <th>Femenino</th>\n",
       "      <th>Masculino</th>\n",
       "      <th>LUGAR</th>\n",
       "    </tr>\n",
       "  </thead>\n",
       "  <tbody>\n",
       "    <tr>\n",
       "      <th>0</th>\n",
       "      <td>2024.0</td>\n",
       "      <td>CONSULTA EN SALA (LIBROS, PERIODICOS Y REVISTA...</td>\n",
       "      <td>CONSULTA EN SALA</td>\n",
       "      <td>SALA GENERAL</td>\n",
       "      <td>1</td>\n",
       "      <td>ADULTOS (29 A 59 AÑOS)</td>\n",
       "      <td>1.0</td>\n",
       "      <td>0.0</td>\n",
       "      <td>CENTRO</td>\n",
       "    </tr>\n",
       "    <tr>\n",
       "      <th>1</th>\n",
       "      <td>2024.0</td>\n",
       "      <td>CONSULTA EN SALA (LIBROS, PERIODICOS Y REVISTA...</td>\n",
       "      <td>CONSULTA EN SALA</td>\n",
       "      <td>SALA GENERAL</td>\n",
       "      <td>1</td>\n",
       "      <td>ADULTOS (29 A 59 AÑOS)</td>\n",
       "      <td>0.0</td>\n",
       "      <td>1.0</td>\n",
       "      <td>CENTRO</td>\n",
       "    </tr>\n",
       "    <tr>\n",
       "      <th>2</th>\n",
       "      <td>2024.0</td>\n",
       "      <td>CONSULTA EN SALA (LIBROS, PERIODICOS Y REVISTA...</td>\n",
       "      <td>CONSULTA EN SALA</td>\n",
       "      <td>SALA GENERAL</td>\n",
       "      <td>1</td>\n",
       "      <td>ADULTOS (29 A 59 AÑOS)</td>\n",
       "      <td>0.0</td>\n",
       "      <td>1.0</td>\n",
       "      <td>CENTRO</td>\n",
       "    </tr>\n",
       "    <tr>\n",
       "      <th>3</th>\n",
       "      <td>2024.0</td>\n",
       "      <td>CONSULTA EN SALA (LIBROS, PERIODICOS Y REVISTA...</td>\n",
       "      <td>CONSULTA EN SALA</td>\n",
       "      <td>SALA GENERAL</td>\n",
       "      <td>1</td>\n",
       "      <td>ADULTOS (29 A 59 AÑOS)</td>\n",
       "      <td>1.0</td>\n",
       "      <td>0.0</td>\n",
       "      <td>CENTRO</td>\n",
       "    </tr>\n",
       "    <tr>\n",
       "      <th>4</th>\n",
       "      <td>2024.0</td>\n",
       "      <td>CONSULTA EN SALA (LIBROS, PERIODICOS Y REVISTA...</td>\n",
       "      <td>CONSULTA EN SALA</td>\n",
       "      <td>SALA GENERAL</td>\n",
       "      <td>1</td>\n",
       "      <td>ADULTOS (29 A 59 AÑOS)</td>\n",
       "      <td>0.0</td>\n",
       "      <td>1.0</td>\n",
       "      <td>CENTRO</td>\n",
       "    </tr>\n",
       "  </tbody>\n",
       "</table>\n",
       "</div>"
      ],
      "text/plain": [
       "    Fecha                                          Actividad  \\\n",
       "0  2024.0  CONSULTA EN SALA (LIBROS, PERIODICOS Y REVISTA...   \n",
       "1  2024.0  CONSULTA EN SALA (LIBROS, PERIODICOS Y REVISTA...   \n",
       "2  2024.0  CONSULTA EN SALA (LIBROS, PERIODICOS Y REVISTA...   \n",
       "3  2024.0  CONSULTA EN SALA (LIBROS, PERIODICOS Y REVISTA...   \n",
       "4  2024.0  CONSULTA EN SALA (LIBROS, PERIODICOS Y REVISTA...   \n",
       "\n",
       "  Línea de Servicio Espacio donde se desarrolla la actividad  Asistencias  \\\n",
       "0  CONSULTA EN SALA                             SALA GENERAL            1   \n",
       "1  CONSULTA EN SALA                             SALA GENERAL            1   \n",
       "2  CONSULTA EN SALA                             SALA GENERAL            1   \n",
       "3  CONSULTA EN SALA                             SALA GENERAL            1   \n",
       "4  CONSULTA EN SALA                             SALA GENERAL            1   \n",
       "\n",
       "           Rangos de Edad  Femenino  Masculino   LUGAR  \n",
       "0  ADULTOS (29 A 59 AÑOS)       1.0        0.0  CENTRO  \n",
       "1  ADULTOS (29 A 59 AÑOS)       0.0        1.0  CENTRO  \n",
       "2  ADULTOS (29 A 59 AÑOS)       0.0        1.0  CENTRO  \n",
       "3  ADULTOS (29 A 59 AÑOS)       1.0        0.0  CENTRO  \n",
       "4  ADULTOS (29 A 59 AÑOS)       0.0        1.0  CENTRO  "
      ]
     },
     "execution_count": 7,
     "metadata": {},
     "output_type": "execute_result"
    }
   ],
   "source": [
    "# Devuelve los encabezados y un número específico de filas, comenzando desde la fila 0\n",
    "df.head(5)"
   ]
  },
  {
   "cell_type": "code",
   "execution_count": 8,
   "id": "4bd70e2c",
   "metadata": {},
   "outputs": [
    {
     "data": {
      "text/html": [
       "<div>\n",
       "<style scoped>\n",
       "    .dataframe tbody tr th:only-of-type {\n",
       "        vertical-align: middle;\n",
       "    }\n",
       "\n",
       "    .dataframe tbody tr th {\n",
       "        vertical-align: top;\n",
       "    }\n",
       "\n",
       "    .dataframe thead th {\n",
       "        text-align: right;\n",
       "    }\n",
       "</style>\n",
       "<table border=\"1\" class=\"dataframe\">\n",
       "  <thead>\n",
       "    <tr style=\"text-align: right;\">\n",
       "      <th></th>\n",
       "      <th>Fecha</th>\n",
       "      <th>Actividad</th>\n",
       "      <th>Línea de Servicio</th>\n",
       "      <th>Espacio donde se desarrolla la actividad</th>\n",
       "      <th>Asistencias</th>\n",
       "      <th>Rangos de Edad</th>\n",
       "      <th>Femenino</th>\n",
       "      <th>Masculino</th>\n",
       "      <th>LUGAR</th>\n",
       "    </tr>\n",
       "  </thead>\n",
       "  <tbody>\n",
       "    <tr>\n",
       "      <th>15305</th>\n",
       "      <td>2024.0</td>\n",
       "      <td>ISLA LIBRO (RECURRENTE)</td>\n",
       "      <td>ACTIVIDADES Y FORMACION EN LECTURA Y ESCRITURA</td>\n",
       "      <td>SALA INFANTIL</td>\n",
       "      <td>5</td>\n",
       "      <td>NIÑOS Y NIÑAS (6 A 12 AÑOS)</td>\n",
       "      <td>2.0</td>\n",
       "      <td>3.0</td>\n",
       "      <td>YERBABUENA</td>\n",
       "    </tr>\n",
       "    <tr>\n",
       "      <th>15306</th>\n",
       "      <td>2024.0</td>\n",
       "      <td>MEMORIAS VITALES (REAL)</td>\n",
       "      <td>ACTIVIDADES Y FORMACION EN LECTURA Y ESCRITURA</td>\n",
       "      <td>EXTENSION BIBLIOTECARIA (BIBLIOTECA ITINERANTE)</td>\n",
       "      <td>26</td>\n",
       "      <td>ADULTOS MAYORES (60 AÑOS EN ADELANTE)</td>\n",
       "      <td>16.0</td>\n",
       "      <td>10.0</td>\n",
       "      <td>YERBABUENA</td>\n",
       "    </tr>\n",
       "    <tr>\n",
       "      <th>15307</th>\n",
       "      <td>2024.0</td>\n",
       "      <td>CONSULTA EN SALA (LIBROS, PERIODICOS Y REVISTA...</td>\n",
       "      <td>CONSULTA EN SALA</td>\n",
       "      <td>SALA GENERAL</td>\n",
       "      <td>2</td>\n",
       "      <td>ADULTOS (29 A 59 AÑOS)</td>\n",
       "      <td>1.0</td>\n",
       "      <td>1.0</td>\n",
       "      <td>YERBABUENA</td>\n",
       "    </tr>\n",
       "    <tr>\n",
       "      <th>15308</th>\n",
       "      <td>2024.0</td>\n",
       "      <td>CONSULTA EN SALA (LIBROS, PERIODICOS Y REVISTA...</td>\n",
       "      <td>CONSULTA EN SALA</td>\n",
       "      <td>SALA GENERAL</td>\n",
       "      <td>3</td>\n",
       "      <td>ADOLESCENTES (13 A 17 AÑOS)</td>\n",
       "      <td>2.0</td>\n",
       "      <td>1.0</td>\n",
       "      <td>YERBABUENA</td>\n",
       "    </tr>\n",
       "  </tbody>\n",
       "</table>\n",
       "</div>"
      ],
      "text/plain": [
       "        Fecha                                          Actividad  \\\n",
       "15305  2024.0                            ISLA LIBRO (RECURRENTE)   \n",
       "15306  2024.0                            MEMORIAS VITALES (REAL)   \n",
       "15307  2024.0  CONSULTA EN SALA (LIBROS, PERIODICOS Y REVISTA...   \n",
       "15308  2024.0  CONSULTA EN SALA (LIBROS, PERIODICOS Y REVISTA...   \n",
       "\n",
       "                                    Línea de Servicio  \\\n",
       "15305  ACTIVIDADES Y FORMACION EN LECTURA Y ESCRITURA   \n",
       "15306  ACTIVIDADES Y FORMACION EN LECTURA Y ESCRITURA   \n",
       "15307                                CONSULTA EN SALA   \n",
       "15308                                CONSULTA EN SALA   \n",
       "\n",
       "              Espacio donde se desarrolla la actividad  Asistencias  \\\n",
       "15305                                    SALA INFANTIL            5   \n",
       "15306  EXTENSION BIBLIOTECARIA (BIBLIOTECA ITINERANTE)           26   \n",
       "15307                                     SALA GENERAL            2   \n",
       "15308                                     SALA GENERAL            3   \n",
       "\n",
       "                              Rangos de Edad  Femenino  Masculino       LUGAR  \n",
       "15305            NIÑOS Y NIÑAS (6 A 12 AÑOS)       2.0        3.0  YERBABUENA  \n",
       "15306  ADULTOS MAYORES (60 AÑOS EN ADELANTE)      16.0       10.0  YERBABUENA  \n",
       "15307                 ADULTOS (29 A 59 AÑOS)       1.0        1.0  YERBABUENA  \n",
       "15308            ADOLESCENTES (13 A 17 AÑOS)       2.0        1.0  YERBABUENA  "
      ]
     },
     "execution_count": 8,
     "metadata": {},
     "output_type": "execute_result"
    }
   ],
   "source": [
    "# tail() muestra las últimas filas del DataFrame y por defecto 5 si no se especifica el #; NaN indica valores faltantes.\n",
    "df.tail(4)"
   ]
  },
  {
   "cell_type": "code",
   "execution_count": 9,
   "id": "8ff7c688",
   "metadata": {},
   "outputs": [
    {
     "data": {
      "text/plain": [
       "Fecha                                                                                  2024.0\n",
       "Actividad                                   CONSULTA EN SALA (LIBROS, PERIODICOS Y REVISTA...\n",
       "Línea de Servicio                                                            CONSULTA EN SALA\n",
       "Espacio donde se desarrolla la actividad                                         SALA GENERAL\n",
       "Asistencias                                                                                 1\n",
       "Rangos de Edad                                                         ADULTOS (29 A 59 AÑOS)\n",
       "Femenino                                                                                  1.0\n",
       "Masculino                                                                                 0.0\n",
       "LUGAR                                                                                  CENTRO\n",
       "Name: 0, dtype: object"
      ]
     },
     "execution_count": 9,
     "metadata": {},
     "output_type": "execute_result"
    }
   ],
   "source": [
    "# loc permite acceder a filas por índice; por ejemplo, loc[0] devuelve la primera fila.\n",
    "df.loc[0]"
   ]
  },
  {
   "cell_type": "code",
   "execution_count": 10,
   "id": "e5a57c05",
   "metadata": {},
   "outputs": [
    {
     "data": {
      "text/plain": [
       "count    15309.0\n",
       "mean      2024.0\n",
       "std          0.0\n",
       "min       2024.0\n",
       "25%       2024.0\n",
       "50%       2024.0\n",
       "75%       2024.0\n",
       "max       2024.0\n",
       "Name: Fecha, dtype: float64"
      ]
     },
     "execution_count": 10,
     "metadata": {},
     "output_type": "execute_result"
    }
   ],
   "source": [
    "# describe() genera estadísticas descriptivas de cada columna numérica.\n",
    "df.Fecha.describe()\n"
   ]
  },
  {
   "cell_type": "code",
   "execution_count": 11,
   "id": "e9d134c2",
   "metadata": {},
   "outputs": [
    {
     "data": {
      "text/plain": [
       "count                                     15309\n",
       "unique                                      172\n",
       "top       PRESTAMO DE COMPUTADORES (RECURRENTE)\n",
       "freq                                       1486\n",
       "Name: Actividad, dtype: object"
      ]
     },
     "execution_count": 11,
     "metadata": {},
     "output_type": "execute_result"
    }
   ],
   "source": [
    "df.Actividad.describe()\n"
   ]
  },
  {
   "cell_type": "code",
   "execution_count": 12,
   "id": "a5f263f2",
   "metadata": {},
   "outputs": [
    {
     "data": {
      "text/plain": [
       "count                 15309\n",
       "unique                   29\n",
       "top       ACCESO A INTERNET\n",
       "freq                   4749\n",
       "Name: Línea de Servicio, dtype: object"
      ]
     },
     "execution_count": 12,
     "metadata": {},
     "output_type": "execute_result"
    }
   ],
   "source": [
    "df[\"Línea de Servicio\"].describe()"
   ]
  },
  {
   "cell_type": "code",
   "execution_count": 13,
   "id": "0f511934",
   "metadata": {},
   "outputs": [
    {
     "data": {
      "text/plain": [
       "count                      15309\n",
       "unique                        16\n",
       "top       ADULTOS (29 A 59 AÑOS)\n",
       "freq                        5639\n",
       "Name: Rangos de Edad, dtype: object"
      ]
     },
     "execution_count": 13,
     "metadata": {},
     "output_type": "execute_result"
    }
   ],
   "source": [
    "df[\"Rangos de Edad\"].describe()"
   ]
  },
  {
   "cell_type": "code",
   "execution_count": 14,
   "id": "a4d3e3be",
   "metadata": {},
   "outputs": [
    {
     "data": {
      "text/plain": [
       "count    15309.000000\n",
       "mean         3.421647\n",
       "std         12.121094\n",
       "min          1.000000\n",
       "25%          1.000000\n",
       "50%          1.000000\n",
       "75%          1.000000\n",
       "max        385.000000\n",
       "Name: Asistencias, dtype: float64"
      ]
     },
     "execution_count": 14,
     "metadata": {},
     "output_type": "execute_result"
    }
   ],
   "source": [
    "df.Asistencias.describe()\n"
   ]
  },
  {
   "cell_type": "code",
   "execution_count": 15,
   "id": "91f4df3b",
   "metadata": {},
   "outputs": [
    {
     "data": {
      "text/plain": [
       "count    15221.000000\n",
       "mean         1.859536\n",
       "std          6.486353\n",
       "min          0.000000\n",
       "25%          0.000000\n",
       "50%          1.000000\n",
       "75%          1.000000\n",
       "max        210.000000\n",
       "Name: Femenino, dtype: float64"
      ]
     },
     "execution_count": 15,
     "metadata": {},
     "output_type": "execute_result"
    }
   ],
   "source": [
    "df.Femenino.describe()\n"
   ]
  },
  {
   "cell_type": "code",
   "execution_count": 16,
   "id": "6c39e82b",
   "metadata": {},
   "outputs": [
    {
     "data": {
      "text/plain": [
       "count    14968.000000\n",
       "mean         1.610235\n",
       "std          6.159362\n",
       "min          0.000000\n",
       "25%          0.000000\n",
       "50%          1.000000\n",
       "75%          1.000000\n",
       "max        216.000000\n",
       "Name: Masculino, dtype: float64"
      ]
     },
     "execution_count": 16,
     "metadata": {},
     "output_type": "execute_result"
    }
   ],
   "source": [
    "df.Masculino.describe()\n"
   ]
  },
  {
   "cell_type": "code",
   "execution_count": 17,
   "id": "246d6924",
   "metadata": {},
   "outputs": [
    {
     "data": {
      "text/plain": [
       "count      15309\n",
       "unique        11\n",
       "top       CENTRO\n",
       "freq       10906\n",
       "Name: LUGAR, dtype: object"
      ]
     },
     "execution_count": 17,
     "metadata": {},
     "output_type": "execute_result"
    }
   ],
   "source": [
    "df.LUGAR.describe()"
   ]
  },
  {
   "cell_type": "code",
   "execution_count": 18,
   "id": "11032446",
   "metadata": {},
   "outputs": [
    {
     "data": {
      "text/plain": [
       "np.int64(15309)"
      ]
     },
     "execution_count": 18,
     "metadata": {},
     "output_type": "execute_result"
    }
   ],
   "source": [
    "# Conteo de asistencias\n",
    "df.Asistencias.count()\n"
   ]
  },
  {
   "cell_type": "code",
   "execution_count": 19,
   "id": "8d326eaa",
   "metadata": {},
   "outputs": [
    {
     "data": {
      "text/plain": [
       "np.float64(3.421647396956039)"
      ]
     },
     "execution_count": 19,
     "metadata": {},
     "output_type": "execute_result"
    }
   ],
   "source": [
    "# Promedio de Asistencias\n",
    "df.Asistencias.mean()"
   ]
  },
  {
   "cell_type": "code",
   "execution_count": 20,
   "id": "40e336a2",
   "metadata": {},
   "outputs": [
    {
     "data": {
      "text/plain": [
       "np.float64(12.121093532241245)"
      ]
     },
     "execution_count": 20,
     "metadata": {},
     "output_type": "execute_result"
    }
   ],
   "source": [
    "# Desviación Estándar de Asistencias \n",
    "df.Asistencias.std()"
   ]
  },
  {
   "cell_type": "code",
   "execution_count": 21,
   "id": "09160f77",
   "metadata": {},
   "outputs": [
    {
     "data": {
      "text/plain": [
       "np.int64(1)"
      ]
     },
     "execution_count": 21,
     "metadata": {},
     "output_type": "execute_result"
    }
   ],
   "source": [
    "# Valor Mínimo de Asistencias \n",
    "df.Asistencias.min()\n"
   ]
  },
  {
   "cell_type": "code",
   "execution_count": 22,
   "id": "429d1987",
   "metadata": {},
   "outputs": [
    {
     "data": {
      "text/plain": [
       "np.int64(385)"
      ]
     },
     "execution_count": 22,
     "metadata": {},
     "output_type": "execute_result"
    }
   ],
   "source": [
    "# Valor Máximo de Asistencias \n",
    "df.Asistencias.max()"
   ]
  },
  {
   "cell_type": "code",
   "execution_count": 23,
   "id": "e75f61e7",
   "metadata": {},
   "outputs": [
    {
     "data": {
      "text/plain": [
       "np.float64(1.0)"
      ]
     },
     "execution_count": 23,
     "metadata": {},
     "output_type": "execute_result"
    }
   ],
   "source": [
    "# Mediana de Asistencias \n",
    "df.Asistencias.median()"
   ]
  },
  {
   "cell_type": "code",
   "execution_count": 24,
   "id": "a0adc665",
   "metadata": {},
   "outputs": [
    {
     "data": {
      "text/plain": [
       "array(['CONSULTA EN SALA (LIBROS, PERIODICOS Y REVISTAS) (REAL)',\n",
       "       'CONSULTA EN SALA (LIBROS, PERIODICOS Y REVISTAS) (RECURRENTE)',\n",
       "       'INFORMACION LOCAL (REAL)', 'SUMINISTRO DE INFORMACION (REAL)',\n",
       "       'CONSULTA EN SALA (RECURRENTE)', 'ACCESO A WIFI (REAL)',\n",
       "       'ACCESO A WIFI (RECURRENTE)', 'AFILIACION DE USUARIOS',\n",
       "       'DEVOLUCION MATERIAL EN PRESTAMO',\n",
       "       'PRESTAMO DE COMPUTADORES (REAL)',\n",
       "       'PRESTAMO DE COMPUTADORES (RECURRENTE)',\n",
       "       'PRESTAMO DE MATERIAL BIBLIOGRAFICO (REAL)',\n",
       "       'PRESTAMO DE MATERIAL BIBLIOGRAFICO (RECURRENTE)',\n",
       "       'RENOVACION DE MATERIAL EN PRESTAMO',\n",
       "       'PRACTICAS DE ARTE Y LITERATURA', 'RECONOCE TU BIBLIOTECA (REAL)',\n",
       "       'ORIENTACION ACADEMICA (REAL)', 'CONSULTA EN SALA (REAL)',\n",
       "       'PRESTAMO DE MATERIAL DIDACTICO (REAL)',\n",
       "       'INTERCAMBIO LITERARIO Y ADOPTA UN LIBRO', 'LEO 7 (RECURRENTE)',\n",
       "       'CINE FORO (REAL)',\n",
       "       'APRENDE A EXPLORAR FUENTES DE INFORMACION (REAL)',\n",
       "       'CICLOS DE CINE LITERARIO (REAL)',\n",
       "       'APRENDE A EXPLORAR FUENTES DE INFORMACION (RECURRENTE)',\n",
       "       'INFORMACION LOCAL (RECURRENTE)',\n",
       "       'ORIENTACION ACADEMICA (RECURRENTE)', 'VISITAS GUIADAS LITERARIAS',\n",
       "       'JARDINES LITERARIOS (REAL)', 'PRESTAMO DE SALA - INDUCCION',\n",
       "       'SUMINISTRO DE INFORMACION (RECURRENTE)',\n",
       "       'JARDINES LITERARIOS (RECURRENTE)', 'ISLA LIBRO (REAL)',\n",
       "       'PRESTAMO DE MATERIAL AUDIOVISUAL (RECURRENTE)',\n",
       "       'BIBLIOGESTANDO FUTURO (REAL)', 'FERIA DEL LIBRO',\n",
       "       'UNIVERSOS LITERARIOS (REAL)', 'PLANETA LIBRO ( REAL)',\n",
       "       'HERRAMIENTAS PARA EL APRENDIZAJE DEL IDIOMA INGLES (REAL)',\n",
       "       'MOMENTOS LITERARIOS (REAL)',\n",
       "       'CONFERENCIAS Y TALLERES MULTITEMATICOS (REAL)',\n",
       "       'CONSULTA EN SALA (PELÍCULAS, DOCUMENTALES, AUDIOLIBROS) (REAL)',\n",
       "       'PRISMAS LITERARIOS (RECURRENTE)',\n",
       "       'HERRAMIENTAS PARA EL APRENDIZAJE DEL IDIOMA INGLES (RECURRENTE)',\n",
       "       'TUTORÍAS EN INFORMATICA BASICA (REAL)',\n",
       "       'FORMACION DE FORMADORES (REAL)', 'LEO 7 (REAL)',\n",
       "       'TUTORÍAS EN INFORMATICA BASICA (RECURRENTE)',\n",
       "       'ISLA LIBRO (RECURRENTE)', 'BIBLIOGESTANDO FUTURO (RECURRENTE)',\n",
       "       'CINE FORO (RECURRENTE)',\n",
       "       'PRESTAMO DE MATERIAL DIDACTICO (RECURRENTE)',\n",
       "       'PRACTICAS DE LECTURA Y PATRIMONIO', 'EXPOSICIONES BIBLIOGRAFICAS',\n",
       "       'SEGURIDAD EN INTERNET Y TIC (RECURRENTE)',\n",
       "       'RECONOCE TU BIBLIOTECA (RECURRENTE)',\n",
       "       'TECNICAS PARA EL APRENDIZAJE EFECTIVO (REAL)',\n",
       "       'ENCUENTRO CON EL AUTOR', 'PRISMAS LITERARIOS (REAL)',\n",
       "       'PLANETA LIBRO (REAL)',\n",
       "       'TALLER DE INICIACION A LA CREACION LITERARIA (REAL)',\n",
       "       'MOMENTOS LITERARIOS', 'MEMORIAS VITALES (REAL)',\n",
       "       'CALEIDOSCOPIO LITERARIO (REAL)',\n",
       "       'PRESTAMO DE MATERIAL AUDIOVISUAL (REAL)',\n",
       "       'CONSULTA EN SALA (PELÍCULAS, DOCUMENTALES, AUDIOLIBROS) (RECURRENTE)',\n",
       "       'JARDINES LITERARIOS (RECURRENTES)',\n",
       "       'CONFERENCIAS Y TALLERES MULTITEMATICOS (RECURRENTE)',\n",
       "       'PLANETA LIBRO (RECURRENTE)', 'INFORMACIÓN LOCAL (REAL)',\n",
       "       'PRÉSTAMO DE MATERIAL BIBLIOGRÁFICO \\n(RECURRENTE)',\n",
       "       'AFILIACIÓN DE USUARIOS (REAL)',\n",
       "       'PRÉSTAMO DE MATERIAL BIBLIOGRÁFICO (REAL)',\n",
       "       'INTERCAMBIO LITERARIO (LEER ES MI CUENTO)', 'PRÉSTAMO DE SALA',\n",
       "       'ORIENTACIÓN ACADÉMICA', 'DEVOLUCIÓN MATERIAL EN PRÉSTAMO',\n",
       "       'PRÉSTAMO DE MATERIAL BIBLIOGRÁFICO', 'MALETA VIAJERA',\n",
       "       'EXPOSICIÓN BIBLIOGRÁFICA',\n",
       "       'PRÉSTAMO DE SALA (TALLER SOLIDARIDAD)',\n",
       "       'VISITA GUIADA LITERARIA (REAL)',\n",
       "       'PRÉSTAMO DE SALA (EDUCACIÓN INCLUSIVA)',\n",
       "       'PRÉSTAMO DE SALA (INDUCCIÓN)',\n",
       "       'HERRAMIENTAS PARA EL APRENDIZAJE \\nDEL IDIOMA INGLÉS (REAL)',\n",
       "       'DIVULGACIÓN', 'FORMACIÓN DE FORMADORES',\n",
       "       'PRÁCTICAS DE LECTURA Y PATRIMONIO',\n",
       "       'RENOVACIÓN DE MATERIAL BIBLIOGRÁFICO', 'CICLO AUDIOVISUAL',\n",
       "       'PRÁCTICAS DE ARTE Y LITERATURA', 'EXPOSICIONES BIBLIOGRÁFICAS',\n",
       "       'JARDINES LITERARIOS', 'ENTREGA DE LEER ES MI CUENTO',\n",
       "       'CALEIDOSCOPIO', 'MEMORIAS VITALES',\n",
       "       'APRENDE A EXPLORAR FUENTES DE INFORMACIÓN (REAL)',\n",
       "       'RENOVACIÓN DE MATERIAL EN PRÉSTAMO', 'CONSULTA EN SALA',\n",
       "       'PRÉSTAMO DE MATERIAL DIDÁCTICO (RECURRENTE)',\n",
       "       'VISITAS GUIADAS LITERARIAS (REAL)',\n",
       "       'PRESTAMO DE SALA - INDUCCION (REAL)',\n",
       "       'CICLO DE CINE LITERARIO (REAL)',\n",
       "       'DEVOLUCION DE MATERIAL EN PRESTAMO',\n",
       "       'PRESTAMO DE SALA - INDUCCION (RECURRENTE)',\n",
       "       'AFILIACION DE USUARIO',\n",
       "       'CONSULTA EN SALA (LIBROS PERIODICOS Y REVISTAS) (REAL)',\n",
       "       'TUTORIAS EN INFORMATICA BASICA (REAL)',\n",
       "       'CONSULTA EN SALA (LIBROS PERIODICOS Y REVISTAS) (RECURRENTE)',\n",
       "       'TALLERES MULTITEMATICOS (REAL)', 'PLANETA LIBRO(RECURRENTE)',\n",
       "       'CICLO DE CINE LITERARIO (RECURRENTE)',\n",
       "       'ORIENTACIÓN ACADÉMICA (RECURRENTE)',\n",
       "       'JARDINES LITERARIOS ( RECURRENTES)',\n",
       "       'CONSULTA EN SALA (LIBROS PERIÓDICOS Y REVISTAS) - (RECURRENTE)',\n",
       "       'PRÉSTAMO DE COMPUTADORES (RECURRENTE)',\n",
       "       'CONSULTA EN SALA (LIBROS PERIÓDICOS Y REVISTAS) - (REAL)',\n",
       "       'INFORMACIÓN LOCAL (RECURRENTE)',\n",
       "       'PRÉSTAMO DE COMPUTADORES (REAL)', 'ORIENTACIÓN ACADÉMICA (REAL)',\n",
       "       'SUMINISTRO DE INFORMACIÓN (RECURRENTE)',\n",
       "       'SUMINISTRO DE INFORMACIÓN (REAL)',\n",
       "       'CONSULTA EN SALA (LIBROS, PERIÓDICOS Y REVISTAS) (RECURRENTE)',\n",
       "       'CONSULTA SALA  (LIBROS, PERIÓDICOS Y REVISTAS) (RECURRENTE)',\n",
       "       'PRÉSTAMO DE MATERIAL BIBLIOGRÁFICO (RECURRENTE)',\n",
       "       'DEVOLUCIÓN DE MATERIAL BIBLIOGRÁFICO (RECURRENTE)',\n",
       "       'CONSULTA EN SALA (LIBROS, PERIÓDICOS Y REVISTAS) (REAL)',\n",
       "       'CINE FORO  (REAL)', 'EVENTOS LITERARIOS (REAL)',\n",
       "       'ADOPTA UN LIBRO (REAL)', 'PROGRAMA DE LEO (REAL)',\n",
       "       'BIBLIOTECA ITINERANTE (REAL)',\n",
       "       'PROGRAMA LEO UNIVERSOS LITERARIOS (RECURRENTE)',\n",
       "       'PROGRAMA LEO, ISLA LIBRO \\xa0(REAL)',\n",
       "       'ADOPTA UN LIBRO (RECURRENTE)',\n",
       "       'PROGRAMA LEO UNIVERSOS LITERARIOS (REAL)',\n",
       "       'DEVOLUCIÓN DE MATERIAL BIBLIOGRÁFICO (REAL)',\n",
       "       'PROGRAMA LEO, MEMORIAS VITALES (REAL)',\n",
       "       'CONFERENCIAS Y TALLERES MULTITEMÁTICOS (RECURRENTE)',\n",
       "       'CONFERENCIAS Y TALLERES MULTITEMÁTICOS (REAL)',\n",
       "       'EVENTOS LITERARIOS, PATRIMONIA (REAL)',\n",
       "       'INTERCAMBIO LITERARIO Y ADOPTA UN LIBRO (REAL)',\n",
       "       'RECONOCE TÚ BIBLIOTECA (RECURRENTE)',\n",
       "       'PRÁCTICAS DE LECTURA Y PATRIMONIO (REAL)',\n",
       "       'AFILIACIÓN DE USUARIOS', 'UNIVERSOS LITERARIOS (RECURRENTE)',\n",
       "       'CONFERENCIAS Y TALLERES MULTITEMÁTICOS (RECURRENTES)',\n",
       "       'CONSULTA EN SALA (PELICULAS, DOCUMENTALES, AUDIOLIBROS) (REAL)',\n",
       "       'ADOPTA UN LIBRO',\n",
       "       'CONSULTA EN SALA (PELICULAS, DOCUMENTALES, AUDIOLIBROS) (RECURRENTE)',\n",
       "       'TUTORIAS EN INFORMATICA BASICA (RECURRENTE)', 'LEO 14 (REAL)',\n",
       "       'BIBLIOTECA AL PARQUE',\n",
       "       'DEVOLUCION DE MATERIAL BIBLIOGRAFICO (RECURRENTE)',\n",
       "       'AFILIACION DE USUARIO (RECURRENTE)', 'Adopta Un Libro (Real)',\n",
       "       'CONFERENCIAS Y TALLERES MULTITEMATICOS (RECURRENTES)',\n",
       "       'PRESTAMO DE MATERIAL BIBLIOGRAFICO \\n(RECURRENTE )',\n",
       "       'PRESTAMO DE MATERIAL DIDACTICO \\n(RECURRENTE)',\n",
       "       'PRESTAMO DE SALA', 'RENOVACION DE MATERIAL BIBLIOGRAFICO',\n",
       "       'AFILIACION DE USUARIOS (REAL)', 'ORIENTACION ACADEMICA',\n",
       "       'DIVULGACION', 'ISLA LIBRO', 'CICLOS AUDIOVISUALES (REAL)',\n",
       "       'CONSULTA EN SALA (LIBROS PERIODICOS Y REVISTAS) - (RECURRENTE)',\n",
       "       'CONSULTA EN SALA (LIBROS PERIODICOS Y REVISTAS) - (REAL)',\n",
       "       'ISLA LIBRO ( REAL)', 'BIBLIOGESTANDO FUTURO ( RECURRENTE)',\n",
       "       'CONSULTA EN SALA (PELICULAS, DOCUMENTALES, AUDIOLIBROS) -(RECURRENTE)',\n",
       "       'CLUB DE LECTURA (RECURRENTE)'], dtype=object)"
      ]
     },
     "execution_count": 24,
     "metadata": {},
     "output_type": "execute_result"
    }
   ],
   "source": [
    "# Obtener valores unicos de cada criterio\n",
    "df.Actividad.unique()"
   ]
  },
  {
   "cell_type": "code",
   "execution_count": 25,
   "id": "53bc96ed",
   "metadata": {},
   "outputs": [
    {
     "data": {
      "text/plain": [
       "array([  0.,   1.,   5.,   2.,  21.,   4.,   3.,  14.,  22.,   7.,   9.,\n",
       "        32.,  12.,  26.,   6.,  20.,  67.,  65., 125.,  61.,   8.,  10.,\n",
       "        11.,  18.,  17.,  15., 173.,  16.,  13., 105.,  30.,  28.,  37.,\n",
       "        24.,  19.,  23.,  40.,  36.,  48.,  89.,  66.,  80.,  62.,  25.,\n",
       "        29., 180., 216., 163.,  54.,  39.,  47.,  31.,  35.,  60.,  69.,\n",
       "        43.,  68.,  42.,  34.,  27.,  nan, 100.,  70.,  46.,  38.,  50.,\n",
       "        49.,  45.,  33., 182.,  55.])"
      ]
     },
     "execution_count": 25,
     "metadata": {},
     "output_type": "execute_result"
    }
   ],
   "source": [
    "# Obtener valores unicos de cada criterio\n",
    "df.Masculino.unique()"
   ]
  },
  {
   "cell_type": "code",
   "execution_count": 26,
   "id": "bd3b1c74",
   "metadata": {},
   "outputs": [
    {
     "data": {
      "text/plain": [
       "array([  1.,   0.,   2.,  10.,   4.,   5.,   3.,  12.,  18.,  13.,  21.,\n",
       "         6.,  35.,  29.,  15.,  23.,  83.,  57., 125.,  11.,   9.,   7.,\n",
       "         8.,  14.,  36., 178.,  26.,  20.,  16.,  43.,  25., 105.,  27.,\n",
       "        19.,  42.,  30.,  40.,  24.,  41.,  33.,  70.,  89.,  51.,  80.,\n",
       "        58.,  17., 164., 144., 170.,  66.,  60.,  88.,  38.,  39.,  31.,\n",
       "        22.,  63.,  62.,  67.,  72.,  45.,  32.,  28., 150., 210.,  49.,\n",
       "        nan,  34.,  46., 203.,  55.])"
      ]
     },
     "execution_count": 26,
     "metadata": {},
     "output_type": "execute_result"
    }
   ],
   "source": [
    "# Obtener valores unicos de cada criterio\n",
    "df.Femenino.unique()"
   ]
  },
  {
   "cell_type": "code",
   "execution_count": 27,
   "id": "1d64fe75",
   "metadata": {},
   "outputs": [
    {
     "data": {
      "text/plain": [
       "array(['CENTRO', 'FAGUA', 'LA BALSA', 'YERBABUENA', 'JJ. CASAS', 'BOJACÁ',\n",
       "       'MERCEDES DE C', 'RESGUARDO', 'BOJACA', 'JJ CASAS', 'MERCEDES'],\n",
       "      dtype=object)"
      ]
     },
     "execution_count": 27,
     "metadata": {},
     "output_type": "execute_result"
    }
   ],
   "source": [
    "# Obtener valores unicos de cada criterio\n",
    "df.LUGAR.unique()"
   ]
  },
  {
   "cell_type": "code",
   "execution_count": 28,
   "id": "a7321dd6",
   "metadata": {},
   "outputs": [
    {
     "data": {
      "text/plain": [
       "array(['CONSULTA EN SALA',\n",
       "       'FORMACION DE USUARIOS / ALFABETIZACION INFORMACIONAL',\n",
       "       'REFERENCIA', 'ACCESO A INTERNET', 'PRESTAMO EXTERNO',\n",
       "       'ACTIVIDADES Y FORMACION CULTURAL',\n",
       "       'ACTIVIDADES Y FORMACION COMUNITARIA Y PARA EL DESARROLLO LOCAL',\n",
       "       'ACTIVIDADES Y FORMACION EN LECTURA Y ESCRITURA',\n",
       "       'ACTIVIDADES Y FORMACIÓN EN LECTURA',\n",
       "       'FORMACIÓN DE USUARIOS / ALFABETIZACIÓN', 'PRÉSTAMO EXTERNO',\n",
       "       'ACTIVIDADES Y FORMACIÓN CULTURAL',\n",
       "       'ACTIVIDADES Y FORMACIÓN COMUNITARIA',\n",
       "       'ACTIVIDADES DE FORMACIÓN EN LECTURA', 'FORMACIÓN DE USUARIOS',\n",
       "       'ACTIVIDADES DE FORMACION EN LECTURA Y ESCRITURA',\n",
       "       'ACTIVIDADES Y FORMACION COMUNITARIA PARA EL DESARROLLO LOCAL',\n",
       "       'ACTIVIDADES EN LECTURA Y ESCRITURA',\n",
       "       'ACTIVIDADES EN FORMACION EN LECTURA Y ESCRITURA',\n",
       "       'ACTIVIDADES Y FORMACIÓN EN LECTURA Y ESCRITURA',\n",
       "       'ACTIVIDADES Y FORMACIÓN COMUNITARIA Y PARA EL DESARROLLO LOCAL',\n",
       "       'FORMACIÓN DE USUARIOS / ALFABETIZACIÓN INFORMACIONAL',\n",
       "       'ACTIVIDADES Y FORMACION EN LECTURA', 'FORMACION DE USUARIOS',\n",
       "       'FORMACION DE USUARIOS / ALFABETIZACION',\n",
       "       'ACTIVIDADES DE FORMACION EN LECTURA',\n",
       "       'ACTIVIDADES Y FORMACION COMUNITARIA',\n",
       "       'ACTIVIDADES DE FORMACION CULTURAL',\n",
       "       'AREA DE CIRCULACION Y PRESTAMO'], dtype=object)"
      ]
     },
     "execution_count": 28,
     "metadata": {},
     "output_type": "execute_result"
    }
   ],
   "source": [
    "# Obtener valores unicos de cada criterio\n",
    "df[\"Línea de Servicio\"].unique()"
   ]
  },
  {
   "cell_type": "code",
   "execution_count": 29,
   "id": "57a2533f",
   "metadata": {},
   "outputs": [
    {
     "data": {
      "text/plain": [
       "array(['ADULTOS (29 A 59 AÑOS)', 'NIÑOS Y NIÑAS (6 A 12 AÑOS)',\n",
       "       'ADOLESCENTES (13 A 17 AÑOS)', 'JOVENES (18 A 28 AÑOS)',\n",
       "       'ADULTOS MAYORES (60 AÑOS EN ADELANTE)',\n",
       "       'PRIMERA INFANCIA (0 A 5 AÑOS)', 'NIÑOS Y NIÑAS (6 A 11 AÑOS)',\n",
       "       'ADOLESCENTES (12 A 17 AÑOS)', 'ADULTOS (27 A 59 AÑOS)',\n",
       "       'JÓVENES (18 A 26 AÑOS)',\n",
       "       'ADULTOS MAYORES \\n(60 AÑOS EN ADELANTE)', '60 Y MÁS',\n",
       "       'NIÑOS Y NIÑAS (6-11)', 'JÓVENES (18 A 28 AÑOS)',\n",
       "       'JOVENES (18 A 26 AÑOS)', 'TODO PUBLICO'], dtype=object)"
      ]
     },
     "execution_count": 29,
     "metadata": {},
     "output_type": "execute_result"
    }
   ],
   "source": [
    "# Obtener valores unicos de cada criterio\n",
    "df[\"Rangos de Edad\"].unique()"
   ]
  }
 ],
 "metadata": {
  "kernelspec": {
   "display_name": "Python 3",
   "language": "python",
   "name": "python3"
  },
  "language_info": {
   "codemirror_mode": {
    "name": "ipython",
    "version": 3
   },
   "file_extension": ".py",
   "mimetype": "text/x-python",
   "name": "python",
   "nbconvert_exporter": "python",
   "pygments_lexer": "ipython3",
   "version": "3.13.2"
  }
 },
 "nbformat": 4,
 "nbformat_minor": 5
}
