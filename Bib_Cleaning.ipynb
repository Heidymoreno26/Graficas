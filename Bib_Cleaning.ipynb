{
 "cells": [
  {
   "cell_type": "code",
   "execution_count": 37,
   "id": "848c7f41",
   "metadata": {},
   "outputs": [],
   "source": [
    "# Importa la biblioteca pandas y la asigna al alias pd, para manejo de datos en estructuras tipo tabla.\n",
    "import pandas as pd"
   ]
  },
  {
   "cell_type": "code",
   "execution_count": 38,
   "id": "a06b69b4",
   "metadata": {},
   "outputs": [],
   "source": [
    "# Carga el archivo CSV en un DataFrame llamado df para su análisis y manipulación.\n",
    "df = pd.read_csv(\"ACTIVIDADES_DE_LA_BIBLIOTECA.csv\")"
   ]
  },
  {
   "cell_type": "code",
   "execution_count": 39,
   "id": "4e3fc2d0",
   "metadata": {},
   "outputs": [
    {
     "data": {
      "text/plain": [
       "(15309, 9)"
      ]
     },
     "execution_count": 39,
     "metadata": {},
     "output_type": "execute_result"
    }
   ],
   "source": [
    "# Muestra la dimensión del DataFrame como (filas, columnas).\n",
    "df.shape"
   ]
  },
  {
   "cell_type": "code",
   "execution_count": 40,
   "id": "59620008",
   "metadata": {},
   "outputs": [
    {
     "name": "stdout",
     "output_type": "stream",
     "text": [
      "<class 'pandas.core.frame.DataFrame'>\n",
      "RangeIndex: 15309 entries, 0 to 15308\n",
      "Data columns (total 9 columns):\n",
      " #   Column                                    Non-Null Count  Dtype  \n",
      "---  ------                                    --------------  -----  \n",
      " 0   Fecha                                     15309 non-null  float64\n",
      " 1   Actividad                                 15309 non-null  object \n",
      " 2   Línea de Servicio                         15309 non-null  object \n",
      " 3   Espacio donde se desarrolla la actividad  15309 non-null  object \n",
      " 4   Asistencias                               15309 non-null  int64  \n",
      " 5   Rangos de Edad                            15309 non-null  object \n",
      " 6   Femenino                                  15221 non-null  float64\n",
      " 7   Masculino                                 14968 non-null  float64\n",
      " 8   LUGAR                                     15309 non-null  object \n",
      "dtypes: float64(3), int64(1), object(5)\n",
      "memory usage: 1.1+ MB\n"
     ]
    }
   ],
   "source": [
    "# Muestra un resumen del DataFrame: número de entradas, tipos de datos y valores no nulos por columna.\n",
    "df.info()"
   ]
  },
  {
   "cell_type": "code",
   "execution_count": 41,
   "id": "92e0724c",
   "metadata": {},
   "outputs": [],
   "source": [
    "# Elimina las columnas innecesarias\n",
    "df_cleaned = df.drop(columns=[\"Femenino\", \"Masculino\", \"Fecha\"])"
   ]
  },
  {
   "cell_type": "code",
   "execution_count": 42,
   "id": "f50dab04",
   "metadata": {},
   "outputs": [
    {
     "name": "stdout",
     "output_type": "stream",
     "text": [
      "<class 'pandas.core.frame.DataFrame'>\n",
      "RangeIndex: 15309 entries, 0 to 15308\n",
      "Data columns (total 6 columns):\n",
      " #   Column                                    Non-Null Count  Dtype \n",
      "---  ------                                    --------------  ----- \n",
      " 0   Actividad                                 15309 non-null  object\n",
      " 1   Línea de Servicio                         15309 non-null  object\n",
      " 2   Espacio donde se desarrolla la actividad  15309 non-null  object\n",
      " 3   Asistencias                               15309 non-null  int64 \n",
      " 4   Rangos de Edad                            15309 non-null  object\n",
      " 5   LUGAR                                     15309 non-null  object\n",
      "dtypes: int64(1), object(5)\n",
      "memory usage: 717.7+ KB\n"
     ]
    }
   ],
   "source": [
    "# Verifica la estructura del DataFrame después de eliminar columnas: entradas, tipos de datos y valores no nulos.\n",
    "df_cleaned.info()"
   ]
  },
  {
   "cell_type": "code",
   "execution_count": 43,
   "id": "4224393b",
   "metadata": {},
   "outputs": [],
   "source": [
    "# Renombra la columna a modificar para facilitar su manejo (sin espacios).\n",
    "\n",
    "df_cleaned.rename(columns={'Línea de Servicio': 'Línea_Servicio'}, inplace=True)\n",
    "df_cleaned.rename(columns={'Espacio donde se desarrolla la actividad': 'ESPACIO_ACTIVIDAD'}, inplace=True)\n",
    "df_cleaned.rename(columns={'Rangos de Edad': 'Rangos_Edad'}, inplace=True)"
   ]
  },
  {
   "cell_type": "code",
   "execution_count": 44,
   "id": "766bc830",
   "metadata": {},
   "outputs": [],
   "source": [
    "# Elimina las filas con valores nulos (NaN) en el DataFrame.\n",
    "df_cleaned = df_cleaned.dropna()"
   ]
  },
  {
   "cell_type": "code",
   "execution_count": 45,
   "id": "44bfa4cd",
   "metadata": {},
   "outputs": [
    {
     "data": {
      "text/plain": [
       "(15309, 6)"
      ]
     },
     "execution_count": 45,
     "metadata": {},
     "output_type": "execute_result"
    }
   ],
   "source": [
    "df_cleaned.shape"
   ]
  },
  {
   "cell_type": "code",
   "execution_count": 46,
   "id": "5b7f258b",
   "metadata": {},
   "outputs": [
    {
     "data": {
      "text/plain": [
       "0"
      ]
     },
     "execution_count": 46,
     "metadata": {},
     "output_type": "execute_result"
    }
   ],
   "source": [
    "# Calcula la diferencia en el número de filas antes y después de eliminar las filas con valores nulos.\n",
    "# Muestra cuántas filas fueron eliminadas.\n",
    "\n",
    "rows_before = df.shape[0]\n",
    "rows_after = df_cleaned.shape[0]\n",
    "\n",
    "rows_before - rows_after"
   ]
  },
  {
   "cell_type": "code",
   "execution_count": 47,
   "id": "251b2e48",
   "metadata": {},
   "outputs": [
    {
     "name": "stdout",
     "output_type": "stream",
     "text": [
      "<class 'pandas.core.frame.DataFrame'>\n",
      "RangeIndex: 15309 entries, 0 to 15308\n",
      "Data columns (total 6 columns):\n",
      " #   Column             Non-Null Count  Dtype \n",
      "---  ------             --------------  ----- \n",
      " 0   Actividad          15309 non-null  object\n",
      " 1   Línea_Servicio     15309 non-null  object\n",
      " 2   ESPACIO_ACTIVIDAD  15309 non-null  object\n",
      " 3   Asistencias        15309 non-null  int64 \n",
      " 4   Rangos_Edad        15309 non-null  object\n",
      " 5   LUGAR              15309 non-null  object\n",
      "dtypes: int64(1), object(5)\n",
      "memory usage: 717.7+ KB\n"
     ]
    }
   ],
   "source": [
    "# Muestra el resumen del DataFrame después de eliminar filas con valores nulos, verificando la estructura y el número de entradas.\n",
    "df_cleaned.info()"
   ]
  },
  {
   "cell_type": "code",
   "execution_count": 48,
   "id": "bbe63a63",
   "metadata": {},
   "outputs": [],
   "source": [
    "# Convierte la columna a tipo de dato 'string' 'float' 'int' para asegurar consistencia en el formato y mantenerlas para realizar cálculos o análisis\n",
    "\n",
    "df_cleaned['Actividad'] = df_cleaned['Actividad'].astype('string')\n",
    "df_cleaned['Línea_Servicio'] = df_cleaned['Línea_Servicio'].astype('string')\n",
    "df_cleaned['ESPACIO_ACTIVIDAD'] = df_cleaned['ESPACIO_ACTIVIDAD'].astype('string')\n",
    "df_cleaned['Asistencias'] = df_cleaned['Asistencias'].astype('int')\n",
    "df_cleaned['Rangos_Edad'] = df_cleaned['Rangos_Edad'].astype('string')\n",
    "df_cleaned['LUGAR'] = df_cleaned['LUGAR'].astype('string')"
   ]
  },
  {
   "cell_type": "code",
   "execution_count": 49,
   "id": "5b527fd3",
   "metadata": {},
   "outputs": [
    {
     "name": "stdout",
     "output_type": "stream",
     "text": [
      "<class 'pandas.core.frame.DataFrame'>\n",
      "RangeIndex: 15309 entries, 0 to 15308\n",
      "Data columns (total 6 columns):\n",
      " #   Column             Non-Null Count  Dtype \n",
      "---  ------             --------------  ----- \n",
      " 0   Actividad          15309 non-null  string\n",
      " 1   Línea_Servicio     15309 non-null  string\n",
      " 2   ESPACIO_ACTIVIDAD  15309 non-null  string\n",
      " 3   Asistencias        15309 non-null  int64 \n",
      " 4   Rangos_Edad        15309 non-null  string\n",
      " 5   LUGAR              15309 non-null  string\n",
      "dtypes: int64(1), string(5)\n",
      "memory usage: 717.7 KB\n"
     ]
    }
   ],
   "source": [
    "df_cleaned.info()"
   ]
  },
  {
   "cell_type": "code",
   "execution_count": 50,
   "id": "8265cc3f",
   "metadata": {},
   "outputs": [
    {
     "data": {
      "text/plain": [
       "['BOJACA',\n",
       " 'BOJACÁ',\n",
       " 'CENTRO',\n",
       " 'FAGUA',\n",
       " 'JJ CASAS',\n",
       " 'JJ. CASAS',\n",
       " 'LA BALSA',\n",
       " 'MERCEDES',\n",
       " 'MERCEDES DE C',\n",
       " 'RESGUARDO',\n",
       " 'YERBABUENA']"
      ]
     },
     "execution_count": 50,
     "metadata": {},
     "output_type": "execute_result"
    }
   ],
   "source": [
    "# Muestra una lista ordenada de los valores únicos presentes en la columna.\n",
    "sorted(df_cleaned.LUGAR.unique())"
   ]
  },
  {
   "cell_type": "code",
   "execution_count": 51,
   "id": "ea1ba16e",
   "metadata": {},
   "outputs": [],
   "source": [
    "# Reemplaza el valor en la columna selecciona para corregir errores tipográficos.\n",
    "df_cleaned.LUGAR = df_cleaned.LUGAR.replace(\"JJ CASAS\", \"JJ. CASAS\")\n",
    "df_cleaned.LUGAR = df_cleaned.LUGAR.replace(\"BOJACA\", \"BOJACÁ\")\n"
   ]
  },
  {
   "cell_type": "code",
   "execution_count": 52,
   "id": "a4a3595d",
   "metadata": {},
   "outputs": [
    {
     "data": {
      "text/plain": [
       "['60 Y MÁS',\n",
       " 'ADOLESCENTES (12 A 17 AÑOS)',\n",
       " 'ADOLESCENTES (13 A 17 AÑOS)',\n",
       " 'ADULTOS (27 A 59 AÑOS)',\n",
       " 'ADULTOS (29 A 59 AÑOS)',\n",
       " 'ADULTOS MAYORES \\n(60 AÑOS EN ADELANTE)',\n",
       " 'ADULTOS MAYORES (60 AÑOS EN ADELANTE)',\n",
       " 'JOVENES (18 A 26 AÑOS)',\n",
       " 'JOVENES (18 A 28 AÑOS)',\n",
       " 'JÓVENES (18 A 26 AÑOS)',\n",
       " 'JÓVENES (18 A 28 AÑOS)',\n",
       " 'NIÑOS Y NIÑAS (6 A 11 AÑOS)',\n",
       " 'NIÑOS Y NIÑAS (6 A 12 AÑOS)',\n",
       " 'NIÑOS Y NIÑAS (6-11)',\n",
       " 'PRIMERA INFANCIA (0 A 5 AÑOS)',\n",
       " 'TODO PUBLICO']"
      ]
     },
     "execution_count": 52,
     "metadata": {},
     "output_type": "execute_result"
    }
   ],
   "source": [
    "sorted(df_cleaned.Rangos_Edad.unique())"
   ]
  },
  {
   "cell_type": "code",
   "execution_count": 53,
   "id": "68c759dc",
   "metadata": {},
   "outputs": [],
   "source": [
    "df_cleaned.Rangos_Edad = df_cleaned.Rangos_Edad.replace(\"JOVENES (18 A 26 AÑOS)\", \"JÓVENES (18 A 26 AÑOS)\")\n",
    "df_cleaned.Rangos_Edad = df_cleaned.Rangos_Edad.replace(\"JOVENES (18 A 28 AÑOS)\", \"JÓVENES (18 A 28 AÑOS)\")\n",
    "df_cleaned.Rangos_Edad = df_cleaned.Rangos_Edad.replace(\"NIÑOS Y NIÑAS (6-11))\", \"NIÑOS Y NIÑAS (6 A 11 AÑOS)\")\n",
    "df_cleaned.Rangos_Edad = df_cleaned.Rangos_Edad.replace(\"ADULTOS MAYORES \\n(60 AÑOS EN ADELANTE\", \"ADULTOS MAYORES (60 AÑOS EN ADELANTE)\")\n"
   ]
  },
  {
   "cell_type": "code",
   "execution_count": 54,
   "id": "7f56f909",
   "metadata": {},
   "outputs": [
    {
     "data": {
      "text/plain": [
       "['ACCESO A INTERNET',\n",
       " 'ACTIVIDADES DE FORMACION CULTURAL',\n",
       " 'ACTIVIDADES DE FORMACION EN LECTURA',\n",
       " 'ACTIVIDADES DE FORMACION EN LECTURA Y ESCRITURA',\n",
       " 'ACTIVIDADES DE FORMACIÓN EN LECTURA',\n",
       " 'ACTIVIDADES EN FORMACION EN LECTURA Y ESCRITURA',\n",
       " 'ACTIVIDADES EN LECTURA Y ESCRITURA',\n",
       " 'ACTIVIDADES Y FORMACION COMUNITARIA',\n",
       " 'ACTIVIDADES Y FORMACION COMUNITARIA PARA EL DESARROLLO LOCAL',\n",
       " 'ACTIVIDADES Y FORMACION COMUNITARIA Y PARA EL DESARROLLO LOCAL',\n",
       " 'ACTIVIDADES Y FORMACION CULTURAL',\n",
       " 'ACTIVIDADES Y FORMACION EN LECTURA',\n",
       " 'ACTIVIDADES Y FORMACION EN LECTURA Y ESCRITURA',\n",
       " 'ACTIVIDADES Y FORMACIÓN COMUNITARIA',\n",
       " 'ACTIVIDADES Y FORMACIÓN COMUNITARIA Y PARA EL DESARROLLO LOCAL',\n",
       " 'ACTIVIDADES Y FORMACIÓN CULTURAL',\n",
       " 'ACTIVIDADES Y FORMACIÓN EN LECTURA',\n",
       " 'ACTIVIDADES Y FORMACIÓN EN LECTURA Y ESCRITURA',\n",
       " 'AREA DE CIRCULACION Y PRESTAMO',\n",
       " 'CONSULTA EN SALA',\n",
       " 'FORMACION DE USUARIOS',\n",
       " 'FORMACION DE USUARIOS / ALFABETIZACION',\n",
       " 'FORMACION DE USUARIOS / ALFABETIZACION INFORMACIONAL',\n",
       " 'FORMACIÓN DE USUARIOS',\n",
       " 'FORMACIÓN DE USUARIOS / ALFABETIZACIÓN',\n",
       " 'FORMACIÓN DE USUARIOS / ALFABETIZACIÓN INFORMACIONAL',\n",
       " 'PRESTAMO EXTERNO',\n",
       " 'PRÉSTAMO EXTERNO',\n",
       " 'REFERENCIA']"
      ]
     },
     "execution_count": 54,
     "metadata": {},
     "output_type": "execute_result"
    }
   ],
   "source": [
    "sorted(df_cleaned.Línea_Servicio.unique())"
   ]
  },
  {
   "cell_type": "code",
   "execution_count": 55,
   "id": "dc1ad497",
   "metadata": {},
   "outputs": [],
   "source": [
    "df_cleaned.Línea_Servicio = df_cleaned.Línea_Servicio.replace(\"ACTIVIDADES DE FORMACION EN LECTURA\", \"ACTIVIDADES DE FORMACIÓN EN LECTURA\")\n",
    "df_cleaned.Línea_Servicio = df_cleaned.Línea_Servicio.replace(\"ACTIVIDADES Y FORMACION EN LECTURA)\", \"ACTIVIDADES DE FORMACIÓN EN LECTURA\")\n",
    "df_cleaned.Línea_Servicio = df_cleaned.Línea_Servicio.replace(\"ACTIVIDADES Y FORMACIÓN EN LECTURA)\", \"ACTIVIDADES DE FORMACIÓN EN LECTURA\")\n",
    "df_cleaned.Línea_Servicio = df_cleaned.Línea_Servicio.replace(\"ACTIVIDADES Y FORMACION CULTURAL\", \"ACTIVIDADES DE FORMACION CULTURAL\")\n",
    "df_cleaned.Línea_Servicio = df_cleaned.Línea_Servicio.replace(\"ACTIVIDADES Y FORMACIÓN CULTURAL\", \"ACTIVIDADES DE FORMACION CULTURAL\")\n",
    "df_cleaned.Línea_Servicio = df_cleaned.Línea_Servicio.replace(\"PRESTAMO EXTERNO\", \"PRÉSTAMO EXTERNO\")\n",
    "df_cleaned.Línea_Servicio = df_cleaned.Línea_Servicio.replace(\"FORMACIÓN DE USUARIOS / ALFABETIZACIÓN\", \"FORMACIÓN DE USUARIOS / ALFABETIZACIÓN INFORMACIONAL\")\n",
    "df_cleaned.Línea_Servicio = df_cleaned.Línea_Servicio.replace(\"FORMACION DE USUARIOS / ALFABETIZACION INFORMACIONAL\", \"FORMACIÓN DE USUARIOS / ALFABETIZACIÓN INFORMACIONAL\")\n",
    "df_cleaned.Línea_Servicio = df_cleaned.Línea_Servicio.replace(\"FORMACION DE USUARIOS / ALFABETIZACION\", \"FORMACIÓN DE USUARIOS / ALFABETIZACIÓN INFORMACIONAL\")\n",
    "df_cleaned.Línea_Servicio = df_cleaned.Línea_Servicio.replace(\"FORMACIÓN DE USUARIOS\", \"FORMACIÓN DE USUARIOS / ALFABETIZACIÓN INFORMACIONAL\")\n",
    "df_cleaned.Línea_Servicio = df_cleaned.Línea_Servicio.replace(\"FORMACION DE USUARIOS\", \"FORMACIÓN DE USUARIOS / ALFABETIZACIÓN INFORMACIONAL\")\n",
    "df_cleaned.Línea_Servicio = df_cleaned.Línea_Servicio.replace(\"ACTIVIDADES Y FORMACION COMUNITARIA Y PARA EL DESARROLLO LOCAL\", \"ACTIVIDADES Y FORMACION COMUNITARIA PARA EL DESARROLLO LOCAL\")\n",
    "df_cleaned.Línea_Servicio = df_cleaned.Línea_Servicio.replace(\"ACTIVIDADES Y FORMACIÓN COMUNITARIA Y PARA EL DESARROLLO LOCAL\", \"ACTIVIDADES Y FORMACION COMUNITARIA PARA EL DESARROLLO LOCAL\")\n",
    "\n"
   ]
  },
  {
   "cell_type": "code",
   "execution_count": 56,
   "id": "e985a532",
   "metadata": {},
   "outputs": [
    {
     "data": {
      "text/plain": [
       "['ACCESO A INTERNET',\n",
       " 'ACTIVIDADES DE FORMACION CULTURAL',\n",
       " 'ACTIVIDADES DE FORMACION EN LECTURA Y ESCRITURA',\n",
       " 'ACTIVIDADES DE FORMACIÓN EN LECTURA',\n",
       " 'ACTIVIDADES EN FORMACION EN LECTURA Y ESCRITURA',\n",
       " 'ACTIVIDADES EN LECTURA Y ESCRITURA',\n",
       " 'ACTIVIDADES Y FORMACION COMUNITARIA',\n",
       " 'ACTIVIDADES Y FORMACION COMUNITARIA PARA EL DESARROLLO LOCAL',\n",
       " 'ACTIVIDADES Y FORMACION EN LECTURA',\n",
       " 'ACTIVIDADES Y FORMACION EN LECTURA Y ESCRITURA',\n",
       " 'ACTIVIDADES Y FORMACIÓN COMUNITARIA',\n",
       " 'ACTIVIDADES Y FORMACIÓN EN LECTURA',\n",
       " 'ACTIVIDADES Y FORMACIÓN EN LECTURA Y ESCRITURA',\n",
       " 'AREA DE CIRCULACION Y PRESTAMO',\n",
       " 'CONSULTA EN SALA',\n",
       " 'FORMACIÓN DE USUARIOS / ALFABETIZACIÓN INFORMACIONAL',\n",
       " 'PRÉSTAMO EXTERNO',\n",
       " 'REFERENCIA']"
      ]
     },
     "execution_count": 56,
     "metadata": {},
     "output_type": "execute_result"
    }
   ],
   "source": [
    "sorted(df_cleaned.Línea_Servicio.unique())"
   ]
  },
  {
   "cell_type": "code",
   "execution_count": 57,
   "id": "215e1908",
   "metadata": {},
   "outputs": [],
   "source": [
    "df_cleaned.Línea_Servicio = df_cleaned.Línea_Servicio.replace(\"ACTIVIDADES Y FORMACION EN LECTURA\", \"ACTIVIDADES DE FORMACIÓN EN LECTURA\")\n",
    "df_cleaned.Línea_Servicio = df_cleaned.Línea_Servicio.replace(\"ACTIVIDADES EN FORMACION EN LECTURA Y ESCRITURA\", \"ACTIVIDADES DE FORMACION EN LECTURA Y ESCRITURA\")\n",
    "df_cleaned.Línea_Servicio = df_cleaned.Línea_Servicio.replace(\"ACTIVIDADES Y FORMACION EN LECTURA Y ESCRITURA\", \"ACTIVIDADES DE FORMACION EN LECTURA Y ESCRITURA\")\n",
    "df_cleaned.Línea_Servicio = df_cleaned.Línea_Servicio.replace(\"ACTIVIDADES Y FORMACIÓN EN LECTURA Y ESCRITURA\", \"ACTIVIDADES DE FORMACION EN LECTURA Y ESCRITURA\")\n",
    "df_cleaned.Línea_Servicio = df_cleaned.Línea_Servicio.replace(\"ACTIVIDADES Y FORMACIÓN EN LECTURA\", \"ACTIVIDADES DE FORMACIÓN EN LECTURA\")\n",
    "df_cleaned.Línea_Servicio = df_cleaned.Línea_Servicio.replace(\"ACTIVIDADES Y FORMACIÓN COMUNITARIA\", \"ACTIVIDADES Y FORMACION COMUNITARIA\")\n"
   ]
  },
  {
   "cell_type": "code",
   "execution_count": 58,
   "id": "92c69e09",
   "metadata": {},
   "outputs": [
    {
     "data": {
      "text/plain": [
       "(15309, 6)"
      ]
     },
     "execution_count": 58,
     "metadata": {},
     "output_type": "execute_result"
    }
   ],
   "source": [
    "# Muestra la forma final del DataFrame limpio: número de filas y columnas tras la depuración\n",
    "df_cleaned.shape"
   ]
  },
  {
   "cell_type": "code",
   "execution_count": 59,
   "id": "e8cd7bd7",
   "metadata": {},
   "outputs": [
    {
     "name": "stdout",
     "output_type": "stream",
     "text": [
      "<class 'pandas.core.frame.DataFrame'>\n",
      "RangeIndex: 15309 entries, 0 to 15308\n",
      "Data columns (total 6 columns):\n",
      " #   Column             Non-Null Count  Dtype \n",
      "---  ------             --------------  ----- \n",
      " 0   Actividad          15309 non-null  string\n",
      " 1   Línea_Servicio     15309 non-null  string\n",
      " 2   ESPACIO_ACTIVIDAD  15309 non-null  string\n",
      " 3   Asistencias        15309 non-null  int64 \n",
      " 4   Rangos_Edad        15309 non-null  string\n",
      " 5   LUGAR              15309 non-null  string\n",
      "dtypes: int64(1), string(5)\n",
      "memory usage: 717.7 KB\n"
     ]
    }
   ],
   "source": [
    "df_cleaned.info()"
   ]
  },
  {
   "cell_type": "code",
   "execution_count": 60,
   "id": "ee48fc09",
   "metadata": {},
   "outputs": [
    {
     "name": "stdout",
     "output_type": "stream",
     "text": [
      "\n",
      "El archivo CSV ha sido guardado.\n"
     ]
    }
   ],
   "source": [
    "df_cleaned.to_csv(\"ACTIVIDADES_DE_LA_BIBLIOTECA_clean.csv\", index=False)\n",
    "\n",
    "print(\"\\nEl archivo CSV ha sido guardado.\")\n"
   ]
  }
 ],
 "metadata": {
  "kernelspec": {
   "display_name": "Python 3",
   "language": "python",
   "name": "python3"
  },
  "language_info": {
   "codemirror_mode": {
    "name": "ipython",
    "version": 3
   },
   "file_extension": ".py",
   "mimetype": "text/x-python",
   "name": "python",
   "nbconvert_exporter": "python",
   "pygments_lexer": "ipython3",
   "version": "3.13.2"
  }
 },
 "nbformat": 4,
 "nbformat_minor": 5
}
